{
 "cells": [
  {
   "attachments": {},
   "cell_type": "markdown",
   "metadata": {},
   "source": [
    "# Tutorial 4: Running a JND Experiment\n",
    "\n",
    "In this tutorial we will go through how to setup and run a Just Noticable Difference experiment.\n",
    "\n",
    "First you need to Launch the UI with your required customisations (see previous tutorials).\n",
    "\n",
    "Things to setup:\n",
    "- Load your own dataset of images, all images in the dataset loaded into IQM-Vis will be used, so make sure not to load too many images!\n",
    "\n",
    "- Make sure that the settings are correct in the 'image settings' tab (Image Display Size, Luminance Calibration etc.)\n",
    "\n",
    "- Only ONE transform is selected in the 'experiments' tab with the correct range and number of steps\n",
    "\n",
    "- Check that the Root Save Folder is correct\n",
    "\n",
    "- Name the dataset for use with save folder naming\n",
    "\n",
    "Once you are ready, press the 'Run JND Experiment' button, this will launch the experiment:\n",
    "\n",
    "![](./resources/experiment_setup_JND.png)\n"
   ]
  },
  {
   "attachments": {},
   "cell_type": "markdown",
   "metadata": {},
   "source": [
    "## Experiment Screen\n",
    "\n",
    "The first screen will show the settings and images used for the experiment. Double check the Save folder matches what the experiment type and image name, a unique experiment number will be generated based on any saved experiments that use the same dataset name but use different transforms or processing etc.\n",
    "\n",
    "The first 25 images will be shown to get an idea if everything is correct.\n",
    "\n",
    "![](./resources/experiment_1_JDN.png)\n",
    "\n",
    "The Number of Comparison shows how many clicks the user  will to do.\n",
    "\n",
    "If everything is correct, click the 'Setup' button. This will take you to the experiment information screen for the participant to read."
   ]
  },
  {
   "attachments": {},
   "cell_type": "markdown",
   "metadata": {},
   "source": [
    "### Experiment Info\n",
    "\n",
    "This will show the information for the participant. When they are ready, click the 'Start' button.\n",
    "\n",
    "![](./resources/experiment_2_JND.png)\n"
   ]
  },
  {
   "attachments": {},
   "cell_type": "markdown",
   "metadata": {},
   "source": [
    "### Experiment Running\n",
    "\n",
    "The user needs to click the i'same' or 'different' button based on whether they think that the comparison images is the same or not as the reference image.\n",
    "\n",
    "![](./resources/experiment_3.png)"
   ]
  },
  {
   "attachments": {},
   "cell_type": "markdown",
   "metadata": {},
   "source": [
    "### Experiment Finished\n",
    "\n",
    "The save folder shown contains the experiment images and a csv file with all the experiment runs\n",
    "\n",
    "![](./resources/experiment_4_JND.png)"
   ]
  },
  {
   "attachments": {},
   "cell_type": "markdown",
   "metadata": {},
   "source": [
    "# Visualising the experiment results\n",
    "\n",
    "The experiment results will be automatically loaded into the 'JND' tab in IQM-Vis\n",
    "\n",
    "This shows the user(s) decisions over the transform's parameter range.\n",
    "\n",
    "![](./resources/correlation_plot_JND.png)"
   ]
  },
  {
   "cell_type": "markdown",
   "metadata": {},
   "source": []
  }
 ],
 "metadata": {
  "kernelspec": {
   "display_name": "Python 3 (ipykernel)",
   "language": "python",
   "name": "python3"
  },
  "language_info": {
   "codemirror_mode": {
    "name": "ipython",
    "version": 3
   },
   "file_extension": ".py",
   "mimetype": "text/x-python",
   "name": "python",
   "nbconvert_exporter": "python",
   "pygments_lexer": "ipython3",
   "version": "3.9.16"
  }
 },
 "nbformat": 4,
 "nbformat_minor": 2
}
